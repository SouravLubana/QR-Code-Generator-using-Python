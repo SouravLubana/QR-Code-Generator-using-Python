{
 "cells": [
  {
   "cell_type": "code",
   "execution_count": 2,
   "id": "69c9b737-d6e3-4a76-85fb-5533acd96bb6",
   "metadata": {},
   "outputs": [
    {
     "name": "stdout",
     "output_type": "stream",
     "text": [
      "Requirement already satisfied: qrcode in c:\\programdata\\anaconda3\\lib\\site-packages (8.2)\n",
      "Requirement already satisfied: colorama in c:\\programdata\\anaconda3\\lib\\site-packages (from qrcode) (0.4.6)\n",
      "Note: you may need to restart the kernel to use updated packages.\n"
     ]
    }
   ],
   "source": [
    "pip install qrcode"
   ]
  },
  {
   "cell_type": "code",
   "execution_count": 1,
   "id": "2ec188ae-f02d-4db2-a3c1-9fb9da476375",
   "metadata": {},
   "outputs": [
    {
     "name": "stdin",
     "output_type": "stream",
     "text": [
      "enter website name  https://www.youtube.com/\n",
      "enter the filename dd\n"
     ]
    },
    {
     "ename": "AttributeError",
     "evalue": "module 'qrcode' has no attribute 'Qrcode'",
     "output_type": "error",
     "traceback": [
      "\u001b[1;31m---------------------------------------------------------------------------\u001b[0m",
      "\u001b[1;31mAttributeError\u001b[0m                            Traceback (most recent call last)",
      "Cell \u001b[1;32mIn[1], line 4\u001b[0m\n\u001b[0;32m      2\u001b[0m data \u001b[38;5;241m=\u001b[39m\u001b[38;5;28minput\u001b[39m(\u001b[38;5;124m\"\u001b[39m\u001b[38;5;124menter website name \u001b[39m\u001b[38;5;124m\"\u001b[39m)\u001b[38;5;241m.\u001b[39mstrip()\n\u001b[0;32m      3\u001b[0m filename\u001b[38;5;241m=\u001b[39m\u001b[38;5;28minput\u001b[39m(\u001b[38;5;124m\"\u001b[39m\u001b[38;5;124menter the filename\u001b[39m\u001b[38;5;124m\"\u001b[39m)\u001b[38;5;241m.\u001b[39mstrip()\n\u001b[1;32m----> 4\u001b[0m qr\u001b[38;5;241m=\u001b[39mqrcode\u001b[38;5;241m.\u001b[39mQrcode(box_size\u001b[38;5;241m=\u001b[39m\u001b[38;5;241m10\u001b[39m, border\u001b[38;5;241m=\u001b[39m\u001b[38;5;241m4\u001b[39m)\n\u001b[0;32m      5\u001b[0m qr\u001b[38;5;241m.\u001b[39madd_data(data)\n\u001b[0;32m      6\u001b[0m image\u001b[38;5;241m=\u001b[39mqr\u001b[38;5;241m.\u001b[39mmake_image(fill_color\u001b[38;5;241m=\u001b[39m\u001b[38;5;124m\"\u001b[39m\u001b[38;5;124mblack\u001b[39m\u001b[38;5;124m\"\u001b[39m, back_color\u001b[38;5;241m=\u001b[39m\u001b[38;5;124m\"\u001b[39m\u001b[38;5;124mwhite\u001b[39m\u001b[38;5;124m\"\u001b[39m)\n",
      "\u001b[1;31mAttributeError\u001b[0m: module 'qrcode' has no attribute 'Qrcode'"
     ]
    }
   ],
   "source": [
    "import qrcode\n",
    "data =input(\"enter website name \").strip()\n",
    "filename=input(\"enter the filename\").strip()\n",
    "qr=qrcode.Qrcode(box_size=10, border=4)\n",
    "qr.add_data(data)\n",
    "image=qr.make_image(fill_color=\"black\", back_color=\"white\")"
   ]
  },
  {
   "cell_type": "code",
   "execution_count": 2,
   "id": "9a3817b0-6068-4708-a80e-f09035462dc5",
   "metadata": {},
   "outputs": [
    {
     "name": "stdin",
     "output_type": "stream",
     "text": [
      "Enter website name:  https://www.youtube.com/\n",
      "Enter the filename:  ff\n"
     ]
    }
   ],
   "source": [
    "import qrcode\n",
    "\n",
    "data = input(\"enter website name \").strip()\n",
    "filename = input(\"enter the filename \").strip()\n",
    "\n",
    "qr = qrcode.QRCode(box_size=10, border=4)\n",
    "qr.add_data(data)\n",
    "image = qr.make_image(fill_color=\"black\", back_color=\"white\")\n",
    "image.save(filename + \".png\")\n",
    "\n"
   ]
  },
  {
   "cell_type": "code",
   "execution_count": null,
   "id": "39bcb85c-3a79-4d79-acac-3288496a15f0",
   "metadata": {},
   "outputs": [],
   "source": []
  },
  {
   "cell_type": "code",
   "execution_count": null,
   "id": "e5a996ac-289a-4d4f-87db-0caa3c999d0e",
   "metadata": {},
   "outputs": [],
   "source": []
  }
 ],
 "metadata": {
  "kernelspec": {
   "display_name": "Python 3 (ipykernel)",
   "language": "python",
   "name": "python3"
  },
  "language_info": {
   "codemirror_mode": {
    "name": "ipython",
    "version": 3
   },
   "file_extension": ".py",
   "mimetype": "text/x-python",
   "name": "python",
   "nbconvert_exporter": "python",
   "pygments_lexer": "ipython3",
   "version": "3.12.7"
  }
 },
 "nbformat": 4,
 "nbformat_minor": 5
}
